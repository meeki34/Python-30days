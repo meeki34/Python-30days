{
 "cells": [
  {
   "cell_type": "code",
   "execution_count": null,
   "id": "401f74ef",
   "metadata": {},
   "outputs": [],
   "source": [
    "print(\"Hello World\")"
   ]
  },
  {
   "cell_type": "code",
   "execution_count": 1,
   "id": "ea9d0f24",
   "metadata": {},
   "outputs": [
    {
     "name": "stdout",
     "output_type": "stream",
     "text": [
      "hello world\n"
     ]
    }
   ],
   "source": [
    "print(\"hello world\")"
   ]
  },
  {
   "cell_type": "code",
   "execution_count": 3,
   "id": "8dbc88a1",
   "metadata": {},
   "outputs": [
    {
     "name": "stdout",
     "output_type": "stream",
     "text": [
      "-1\n",
      "Bro code\n",
      "8\n",
      "BRO CODE\n",
      "bro code\n",
      "False\n",
      "False\n",
      "2\n",
      "Sister code\n",
      "Bro codeBro codeBro code\n"
     ]
    }
   ],
   "source": [
    "name = \"Bro code\"\n",
    "\n",
    "print(name.find(\"bro\"))\n",
    "print(name.capitalize())\n",
    "print(len(name))\n",
    "print(name.upper())\n",
    "print(name.lower())\n",
    "print(name.isdigit())\n",
    "print(name.isalpha())   \n",
    "print(name.count(\"o\"))\n",
    "print(name.replace(\"Bro\", \"Sister\"))\n",
    "print(name*3)         "
   ]
  },
  {
   "cell_type": "code",
   "execution_count": null,
   "id": "25896310",
   "metadata": {},
   "outputs": [],
   "source": [
    "x = 23\n",
    "y = 34\n",
    "d = 34\n",
    "\n",
    "# this type casting which is use to covert the data type of variable\n",
    "\n",
    "x = str(x)\n",
    "y = int(y)\n",
    "d = float(d)\n",
    "\n",
    "print(\"X print\",type(x))\n",
    "print(y)\n",
    "print(d)"
   ]
  },
  {
   "cell_type": "code",
   "execution_count": null,
   "id": "df86cad5",
   "metadata": {},
   "outputs": [],
   "source": [
    "# how string work in python\n",
    "name = input(\"Enter Your name\")\n",
    "age = int(input(\"Enter Your age\"))\n",
    "\n",
    "print(\"Hello\"+name)\n",
    "print(\"You are \" + str(age) + \" years old\")"
   ]
  },
  {
   "cell_type": "code",
   "execution_count": 1,
   "id": "ec720c94",
   "metadata": {},
   "outputs": [
    {
     "name": "stdout",
     "output_type": "stream",
     "text": [
      "10\n",
      "5\n"
     ]
    }
   ],
   "source": [
    "import math\n",
    "\n",
    "pi = 3.14\n",
    "\n",
    "#print(round(pi))\n",
    "\n",
    "#print(math.ceil(pi))  # Rounds up to the nearest integer\n",
    "\n",
    "print(abs(-10))\n",
    "\n",
    "x = 4 \n",
    "y = 5\n",
    "x = 3\n",
    "\n",
    "print(max (x, y))  # Returns the maximum of x and y"
   ]
  }
 ],
 "metadata": {
  "kernelspec": {
   "display_name": "Python 3",
   "language": "python",
   "name": "python3"
  },
  "language_info": {
   "codemirror_mode": {
    "name": "ipython",
    "version": 3
   },
   "file_extension": ".py",
   "mimetype": "text/x-python",
   "name": "python",
   "nbconvert_exporter": "python",
   "pygments_lexer": "ipython3",
   "version": "3.11.8"
  }
 },
 "nbformat": 4,
 "nbformat_minor": 5
}
